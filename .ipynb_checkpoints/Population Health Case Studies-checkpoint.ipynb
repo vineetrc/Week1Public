{
 "cells": [
  {
   "cell_type": "markdown",
   "metadata": {},
   "source": [
    "### Case Study Questions\n",
    "\n",
    "You will be divvied up into groups of 4 and given a landmark case study of population health to investigate. Answer the following questions about your group's study and prepare to give a quick (1-2 minute) synopsis of the events, making sure to cover which populations were affected.\n",
    "\n",
    "1. When did this event happen? What population was affected?\n",
    "2. How were the populations affected?\n",
    "3. What sets this population apart from any other group of people?\n",
    "4. Why are we interested in this case study? How does it affect us today?\n",
    "5. How did researchers find out the effects/realize effects were significant?"
   ]
  },
  {
   "cell_type": "markdown",
   "metadata": {},
   "source": [
    "Roundup  \n",
    "Blue Zones  \n",
    "Fracking  \n",
    "Flint, MI  \n",
    "London cholera  \n",
    "DDT  \n",
    "Love Canal"
   ]
  },
  {
   "cell_type": "markdown",
   "metadata": {},
   "source": []
  },
  {
   "cell_type": "markdown",
   "metadata": {},
   "source": []
  },
  {
   "cell_type": "markdown",
   "metadata": {},
   "source": []
  },
  {
   "cell_type": "markdown",
   "metadata": {},
   "source": []
  },
  {
   "cell_type": "markdown",
   "metadata": {},
   "source": []
  }
 ],
 "metadata": {
  "kernelspec": {
   "display_name": "Python 3",
   "language": "python",
   "name": "python3"
  },
  "language_info": {
   "codemirror_mode": {
    "name": "ipython",
    "version": 3
   },
   "file_extension": ".py",
   "mimetype": "text/x-python",
   "name": "python",
   "nbconvert_exporter": "python",
   "pygments_lexer": "ipython3",
   "version": "3.7.3"
  }
 },
 "nbformat": 4,
 "nbformat_minor": 2
}
